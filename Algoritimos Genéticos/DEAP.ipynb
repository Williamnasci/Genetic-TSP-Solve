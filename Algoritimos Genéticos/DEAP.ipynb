{
 "cells": [
  {
   "cell_type": "code",
   "execution_count": 1,
   "metadata": {},
   "outputs": [],
   "source": [
    "from deap import creator, base, tools, algorithms"
   ]
  },
  {
   "cell_type": "code",
   "execution_count": 2,
   "metadata": {},
   "outputs": [],
   "source": [
    "import numpy as np\n",
    "import matplotlib.pyplot as plt"
   ]
  },
  {
   "cell_type": "code",
   "execution_count": 25,
   "metadata": {},
   "outputs": [
    {
     "name": "stderr",
     "output_type": "stream",
     "text": [
      "c:\\Users\\cesar\\AppData\\Local\\Programs\\Python\\Python312\\Lib\\site-packages\\deap\\creator.py:185: RuntimeWarning: A class named 'FitnessMin' has already been created and it will be overwritten. Consider deleting previous creation of that class or rename it.\n",
      "  warnings.warn(\"A class named '{0}' has already been created and it \"\n",
      "c:\\Users\\cesar\\AppData\\Local\\Programs\\Python\\Python312\\Lib\\site-packages\\deap\\creator.py:185: RuntimeWarning: A class named 'EstrIndividuo' has already been created and it will be overwritten. Consider deleting previous creation of that class or rename it.\n",
      "  warnings.warn(\"A class named '{0}' has already been created and it \"\n"
     ]
    }
   ],
   "source": [
    "toolbox = base.Toolbox()\n",
    "n = 4\n",
    "creator.create(\"FitnessMin\", base.Fitness, weights=(-1.0,))\n",
    "creator.create(\"EstrIndividuo\", list, fitness=creator.FitnessMin)\n",
    "\n",
    "toolbox.register(\"Genes\", np.random.permutation, n)\n",
    "toolbox.register(\"Individuos\", tools.initIterate, creator.EstrIndividuo, toolbox.Genes)"
   ]
  },
  {
   "cell_type": "code",
   "execution_count": 26,
   "metadata": {},
   "outputs": [],
   "source": [
    "toolbox.register(\"Populacao\",tools.initRepeat, list, toolbox.Individuos)"
   ]
  },
  {
   "cell_type": "code",
   "execution_count": 27,
   "metadata": {},
   "outputs": [],
   "source": [
    "pop = toolbox.Populacao(n=10)"
   ]
  },
  {
   "cell_type": "code",
   "execution_count": 28,
   "metadata": {},
   "outputs": [],
   "source": [
    "toolbox.register(\"mate\", tools.cxPartialyMatched)\n",
    "toolbox.register(\"mutate\", tools.mutShuffleIndexes, indpb=0.1)\n",
    "toolbox.register(\"select\", tools.selTournament, tournsize=2)"
   ]
  },
  {
   "cell_type": "code",
   "execution_count": 42,
   "metadata": {},
   "outputs": [],
   "source": [
    "dist = [[0,7,9,2], [4,0,3,7], [6,7,0,8], [2,3,8,0]]"
   ]
  },
  {
   "cell_type": "code",
   "execution_count": 43,
   "metadata": {},
   "outputs": [],
   "source": [
    "def aptidao(individuo):\n",
    "    f = 0\n",
    "    for i in range(n-1):\n",
    "        local1 = individuo[i]\n",
    "        local2 = individuo[i+1]\n",
    "        distancia = dist[local1][local2]\n",
    "        f = f + distancia\n",
    "    return f,"
   ]
  },
  {
   "cell_type": "code",
   "execution_count": 44,
   "metadata": {},
   "outputs": [],
   "source": [
    "toolbox.register(\"evaluate\", aptidao)"
   ]
  },
  {
   "cell_type": "code",
   "execution_count": 45,
   "metadata": {},
   "outputs": [],
   "source": [
    "def estatisticaSalvar(individuo):\n",
    "  return individuo.fitness.values"
   ]
  },
  {
   "cell_type": "code",
   "execution_count": 46,
   "metadata": {},
   "outputs": [],
   "source": [
    "estatistica = tools.Statistics(estatisticaSalvar)\n",
    "estatistica.register(\"mean\", np.mean)\n",
    "estatistica.register(\"max\", np.max)\n",
    "estatistica.register(\"min\", np.min)"
   ]
  },
  {
   "cell_type": "code",
   "execution_count": 47,
   "metadata": {},
   "outputs": [],
   "source": [
    "hof = tools.HallOfFame(1)"
   ]
  },
  {
   "cell_type": "code",
   "execution_count": 48,
   "metadata": {},
   "outputs": [
    {
     "name": "stdout",
     "output_type": "stream",
     "text": [
      "gen\tnevals\tmean\tmax\tmin\n",
      "0  \t0     \t11.5\t16 \t11 \n",
      "1  \t8     \t11.5\t16 \t11 \n",
      "2  \t10    \t11  \t11 \t11 \n",
      "3  \t6     \t11  \t11 \t11 \n",
      "4  \t8     \t11  \t11 \t11 \n",
      "5  \t8     \t11  \t11 \t11 \n",
      "6  \t10    \t11.2\t13 \t11 \n",
      "7  \t8     \t12  \t21 \t11 \n",
      "8  \t8     \t12.2\t21 \t11 \n",
      "9  \t8     \t11.2\t13 \t11 \n",
      "10 \t10    \t11  \t11 \t11 \n",
      "11 \t10    \t11  \t11 \t11 \n",
      "12 \t6     \t11  \t11 \t11 \n",
      "13 \t8     \t11  \t11 \t11 \n",
      "14 \t6     \t11  \t11 \t11 \n",
      "15 \t7     \t12.2\t21 \t11 \n",
      "16 \t8     \t13  \t21 \t11 \n",
      "17 \t8     \t11  \t11 \t11 \n",
      "18 \t8     \t11  \t11 \t11 \n",
      "19 \t8     \t11  \t11 \t11 \n",
      "20 \t8     \t11.2\t13 \t11 \n",
      "21 \t10    \t11.2\t13 \t11 \n",
      "22 \t10    \t11  \t11 \t11 \n",
      "23 \t5     \t12  \t21 \t11 \n",
      "24 \t10    \t11  \t11 \t11 \n",
      "25 \t8     \t11  \t11 \t11 \n",
      "26 \t10    \t12.2\t21 \t11 \n",
      "27 \t6     \t11  \t11 \t11 \n",
      "28 \t10    \t11  \t11 \t11 \n",
      "29 \t6     \t11  \t11 \t11 \n",
      "30 \t8     \t11  \t11 \t11 \n"
     ]
    }
   ],
   "source": [
    "result, log = algorithms.eaSimple(pop, toolbox, cxpb=0.8, mutpb=0.1, ngen=30, stats=estatistica, halloffame=hof, verbose=True)"
   ]
  },
  {
   "cell_type": "code",
   "execution_count": 49,
   "metadata": {},
   "outputs": [
    {
     "name": "stdout",
     "output_type": "stream",
     "text": [
      "[[1, 2, 0, 3], [1, 2, 0, 3], [1, 2, 0, 3], [1, 2, 0, 3], [1, 2, 0, 3], [1, 2, 0, 3], [1, 2, 0, 3], [1, 2, 0, 3], [1, 2, 0, 3], [1, 2, 0, 3]]\n"
     ]
    }
   ],
   "source": [
    "print(result)"
   ]
  },
  {
   "cell_type": "code",
   "execution_count": 50,
   "metadata": {},
   "outputs": [
    {
     "name": "stdout",
     "output_type": "stream",
     "text": [
      "[[1, 2, 0, 3]]\n"
     ]
    }
   ],
   "source": [
    "print(hof)"
   ]
  },
  {
   "cell_type": "code",
   "execution_count": 51,
   "metadata": {},
   "outputs": [
    {
     "name": "stdout",
     "output_type": "stream",
     "text": [
      "(11,)\n"
     ]
    }
   ],
   "source": [
    "melhor = hof[0]\n",
    "print(aptidao(melhor))"
   ]
  },
  {
   "cell_type": "code",
   "execution_count": 52,
   "metadata": {},
   "outputs": [
    {
     "data": {
      "text/plain": [
       "[{'gen': 0, 'nevals': 0, 'mean': 11.5, 'max': 16.0, 'min': 11.0},\n",
       " {'gen': 1, 'nevals': 8, 'mean': 11.5, 'max': 16.0, 'min': 11.0},\n",
       " {'gen': 2, 'nevals': 10, 'mean': 11.0, 'max': 11.0, 'min': 11.0},\n",
       " {'gen': 3, 'nevals': 6, 'mean': 11.0, 'max': 11.0, 'min': 11.0},\n",
       " {'gen': 4, 'nevals': 8, 'mean': 11.0, 'max': 11.0, 'min': 11.0},\n",
       " {'gen': 5, 'nevals': 8, 'mean': 11.0, 'max': 11.0, 'min': 11.0},\n",
       " {'gen': 6, 'nevals': 10, 'mean': 11.2, 'max': 13.0, 'min': 11.0},\n",
       " {'gen': 7, 'nevals': 8, 'mean': 12.0, 'max': 21.0, 'min': 11.0},\n",
       " {'gen': 8, 'nevals': 8, 'mean': 12.2, 'max': 21.0, 'min': 11.0},\n",
       " {'gen': 9, 'nevals': 8, 'mean': 11.2, 'max': 13.0, 'min': 11.0},\n",
       " {'gen': 10, 'nevals': 10, 'mean': 11.0, 'max': 11.0, 'min': 11.0},\n",
       " {'gen': 11, 'nevals': 10, 'mean': 11.0, 'max': 11.0, 'min': 11.0},\n",
       " {'gen': 12, 'nevals': 6, 'mean': 11.0, 'max': 11.0, 'min': 11.0},\n",
       " {'gen': 13, 'nevals': 8, 'mean': 11.0, 'max': 11.0, 'min': 11.0},\n",
       " {'gen': 14, 'nevals': 6, 'mean': 11.0, 'max': 11.0, 'min': 11.0},\n",
       " {'gen': 15, 'nevals': 7, 'mean': 12.2, 'max': 21.0, 'min': 11.0},\n",
       " {'gen': 16, 'nevals': 8, 'mean': 13.0, 'max': 21.0, 'min': 11.0},\n",
       " {'gen': 17, 'nevals': 8, 'mean': 11.0, 'max': 11.0, 'min': 11.0},\n",
       " {'gen': 18, 'nevals': 8, 'mean': 11.0, 'max': 11.0, 'min': 11.0},\n",
       " {'gen': 19, 'nevals': 8, 'mean': 11.0, 'max': 11.0, 'min': 11.0},\n",
       " {'gen': 20, 'nevals': 8, 'mean': 11.2, 'max': 13.0, 'min': 11.0},\n",
       " {'gen': 21, 'nevals': 10, 'mean': 11.2, 'max': 13.0, 'min': 11.0},\n",
       " {'gen': 22, 'nevals': 10, 'mean': 11.0, 'max': 11.0, 'min': 11.0},\n",
       " {'gen': 23, 'nevals': 5, 'mean': 12.0, 'max': 21.0, 'min': 11.0},\n",
       " {'gen': 24, 'nevals': 10, 'mean': 11.0, 'max': 11.0, 'min': 11.0},\n",
       " {'gen': 25, 'nevals': 8, 'mean': 11.0, 'max': 11.0, 'min': 11.0},\n",
       " {'gen': 26, 'nevals': 10, 'mean': 12.2, 'max': 21.0, 'min': 11.0},\n",
       " {'gen': 27, 'nevals': 6, 'mean': 11.0, 'max': 11.0, 'min': 11.0},\n",
       " {'gen': 28, 'nevals': 10, 'mean': 11.0, 'max': 11.0, 'min': 11.0},\n",
       " {'gen': 29, 'nevals': 6, 'mean': 11.0, 'max': 11.0, 'min': 11.0},\n",
       " {'gen': 30, 'nevals': 8, 'mean': 11.0, 'max': 11.0, 'min': 11.0}]"
      ]
     },
     "execution_count": 52,
     "metadata": {},
     "output_type": "execute_result"
    }
   ],
   "source": [
    "log"
   ]
  },
  {
   "cell_type": "code",
   "execution_count": 53,
   "metadata": {},
   "outputs": [],
   "source": [
    "menores = log.select(\"min\")\n",
    "maiores = log.select(\"max\")\n",
    "medias = log.select(\"mean\")"
   ]
  },
  {
   "cell_type": "code",
   "execution_count": 55,
   "metadata": {},
   "outputs": [
    {
     "data": {
      "text/plain": [
       "<matplotlib.legend.Legend at 0x19f1ed4b110>"
      ]
     },
     "execution_count": 55,
     "metadata": {},
     "output_type": "execute_result"
    },
    {
     "data": {
      "image/png": "[encoded data removed]",
      "text/plain": [
       "<Figure size 640x480 with 1 Axes>"
      ]
     },
     "metadata": {},
     "output_type": "display_data"
    }
   ],
   "source": [
    "plt.plot(menores, label=\"Menores\")\n",
    "plt.plot(maiores, label=\"Maiores\")\n",
    "plt.plot(medias, label=\"Medias\")\n",
    "plt.xlabel(\"Gerações\")\n",
    "plt.ylabel(\"Aptidão\")\n",
    "plt.legend(loc=1)"
   ]
  }
 ],
 "metadata": {
  "kernelspec": {
   "display_name": "Python 3",
   "language": "python",
   "name": "python3"
  },
  "language_info": {
   "codemirror_mode": {
    "name": "ipython",
    "version": 3
   },
   "file_extension": ".py",
   "mimetype": "text/x-python",
   "name": "python",
   "nbconvert_exporter": "python",
   "pygments_lexer": "ipython3",
   "version": "3.12.1"
  }
 },
 "nbformat": 4,
 "nbformat_minor": 2
}
